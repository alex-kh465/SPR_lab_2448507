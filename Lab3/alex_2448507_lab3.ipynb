{
 "cells": [
  {
   "cell_type": "code",
   "execution_count": 1,
   "id": "a2b9f318",
   "metadata": {},
   "outputs": [
    {
     "name": "stdout",
     "output_type": "stream",
     "text": [
      "0 Microsoft Sound Mapper - Input 2\n",
      "1 Virtual Mic (Virtual Mic for Au 2\n",
      "2 Microphone Array (Realtek(R) Au 2\n",
      "3 Microsoft Sound Mapper - Output 0\n",
      "4 Speakers (Realtek(R) Audio) 0\n",
      "5 Virtual Speakers (Virtual Speak 0\n",
      "6 Primary Sound Capture Driver 2\n",
      "7 Virtual Mic (Virtual Mic for AudioRelay) 2\n",
      "8 Microphone Array (Realtek(R) Audio) 2\n",
      "9 Primary Sound Driver 0\n",
      "10 Speakers (Realtek(R) Audio) 0\n",
      "11 Virtual Speakers (Virtual Speakers for AudioRelay) 0\n",
      "12 Virtual Speakers (Virtual Speakers for AudioRelay) 0\n",
      "13 Speakers (Realtek(R) Audio) 0\n",
      "14 Microphone Array (Realtek(R) Audio) 2\n",
      "15 Virtual Mic (Virtual Mic for AudioRelay) 2\n",
      "16 Headphones 1 (Realtek HD Audio 2nd output with SST) 0\n",
      "17 Headphones 2 (Realtek HD Audio 2nd output with SST) 0\n",
      "18 PC Speaker (Realtek HD Audio 2nd output with SST) 2\n",
      "19 Microphone Array (Realtek HD Audio Mic input) 2\n",
      "20 Stereo Mix (Realtek HD Audio Stereo input) 2\n",
      "21 Speakers 1 (Realtek HD Audio output with SST) 0\n",
      "22 Speakers 2 (Realtek HD Audio output with SST) 0\n",
      "23 PC Speaker (Realtek HD Audio output with SST) 2\n",
      "24 Headphones () 0\n",
      "25 Input () 2\n",
      "26 Headphones () 0\n",
      "27 Headphones () 0\n",
      "28 Input () 2\n",
      "29 Speakers () 0\n",
      "30 Headphones () 0\n",
      "31 Headphones () 0\n",
      "32 Headphones () 0\n",
      "33 Headphones () 0\n",
      "34 Headphones () 0\n",
      "35 Headphones () 0\n",
      "36 Input () 2\n",
      "37 Headphones () 0\n",
      "38 Virtual Mic (AudioRelay Wave) 2\n",
      "39 Line Out (AudioRelay Wave) 0\n"
     ]
    }
   ],
   "source": [
    "import pyaudio\n",
    "\n",
    "p = pyaudio.PyAudio()\n",
    "for i in range(p.get_device_count()):\n",
    "    info = p.get_device_info_by_index(i)\n",
    "    print(i, info['name'], info['maxInputChannels'])\n"
   ]
  }
 ],
 "metadata": {
  "kernelspec": {
   "display_name": "llm",
   "language": "python",
   "name": "python3"
  },
  "language_info": {
   "codemirror_mode": {
    "name": "ipython",
    "version": 3
   },
   "file_extension": ".py",
   "mimetype": "text/x-python",
   "name": "python",
   "nbconvert_exporter": "python",
   "pygments_lexer": "ipython3",
   "version": "3.10.18"
  }
 },
 "nbformat": 4,
 "nbformat_minor": 5
}
